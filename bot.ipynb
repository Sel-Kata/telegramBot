import requests
import json
from urllib.parse import urlencode

#https://api.telegram.org/bot5552494293:AAFA7r8cU0zDN7o0v9jawQukOjx5plDlP8E/getUpdates
token = '5552494293:AAFA7r8cU0zDN7o0v9jawQukOjx5plDlP8E'
chat_id = 164234140  # your chat id

message = 'Привееет)Вот тебе вомбат)))'  # text which you want to send

params = {'chat_id': chat_id, 'text': message}

base_url = f'https://api.telegram.org/bot{token}/'
url = base_url + 'sendMessage?' + urlencode(params)
# Only if you need it
# proxy = {'https': 'https://77.48.23.199:57842'}

# To send request via proxy
# resp = requests.get(url, proxies=proxy)
resp = requests.get(url)
# Path to necessary file
filepath = 'wombat.jpeg'

url = base_url + 'sendDocument?' + urlencode(params)

files = {'document': open(filepath, 'rb')}

# If you need proxy
# resp = requests.get(url, files=files, proxies=proxy)
resp = requests.get(url, files=files)
